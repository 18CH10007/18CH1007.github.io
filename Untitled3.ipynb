{
  "nbformat": 4,
  "nbformat_minor": 0,
  "metadata": {
    "colab": {
      "name": "Untitled3.ipynb",
      "provenance": [],
      "authorship_tag": "ABX9TyMrEFKQwhVvhh+KCP2rp79s",
      "include_colab_link": true
    },
    "kernelspec": {
      "name": "python3",
      "display_name": "Python 3"
    }
  },
  "cells": [
    {
      "cell_type": "markdown",
      "metadata": {
        "id": "view-in-github",
        "colab_type": "text"
      },
      "source": [
        "<a href=\"https://colab.research.google.com/github/18CH10007/18CH1007.github.io/blob/master/Untitled3.ipynb\" target=\"_parent\"><img src=\"https://colab.research.google.com/assets/colab-badge.svg\" alt=\"Open In Colab\"/></a>"
      ]
    },
    {
      "cell_type": "code",
      "metadata": {
        "id": "gYTkn_AsGO-H",
        "colab_type": "code",
        "colab": {
          "base_uri": "https://localhost:8080/",
          "height": 269
        },
        "outputId": "5d7629ce-fa8d-4fa6-fffa-02e8354a63d3"
      },
      "source": [
        "import numpy as np\n",
        "\n",
        "\n",
        "\n",
        "class Neural_Network(object):\n",
        "  def __init__(self):\n",
        "    #parameters\n",
        "    self.inputSize = 2\n",
        "    self.outputSize = 1\n",
        "    self.hiddenSize = 3\n",
        "\n",
        "    #weights\n",
        "    self.W1 = np.random.randn(self.inputSize, self.hiddenSize) # (3x2) weight matrix from input to hidden layer\n",
        "    self.W2 = np.random.randn(self.hiddenSize, self.outputSize) \n",
        "\n",
        "  def forwardpropagation(self, X):\n",
        "    self.z= np.dot(X, self.W1)\n",
        "    self.z1= self.sigmoid(self.z)\n",
        "    self.z2= np.dot( self.z1, self.W2)\n",
        "    o=self.sigmoid(self.z2)\n",
        "    return o\n",
        "\n",
        "  def sigmoid(self,s):\n",
        "    return 1/(1+np.exp(-s))\n",
        "\n",
        "  def sigmoidPrime(self, s):\n",
        "    #derivative of sigmoid\n",
        "    return s * (1 - s)\n",
        "\n",
        "  def backwardpropagation(self,X,y,o):\n",
        "    self.o_error= y=o\n",
        "    self.o_delta = self.o_error*self.sigmoidPrime(0)\n",
        "\n",
        "    self.z2_error= self.o_delta.dot(self.W2.T)\n",
        "    self.z2_delta = self.z2_error*self.sigmoidPrime(self.z2)\n",
        "\n",
        "    self.W1+= X.T.dot(self.z2_delta)\n",
        "    self.W2+= self.z2.T.dot(self.o_delta)\n",
        "\n",
        "\n",
        "\n",
        "  \n",
        "  def train (self, X, y):\n",
        "    o = self.forwardpropagation(X)\n",
        "    self.backwardpropagation(X, y, o)\n",
        "\n",
        "\n",
        "NN= Neural_Network()\n",
        "for i in range(5):\n",
        "  NN.train(X,y)\n",
        "  print(np.square(y- NN.forwardpropagation(X)))\n",
        "\n",
        "\n",
        "\n"
      ],
      "execution_count": 47,
      "outputs": [
        {
          "output_type": "stream",
          "text": [
            "[[0.3715367 ]\n",
            " [0.23667753]\n",
            " [0.30102151]]\n",
            "[[0.3715367 ]\n",
            " [0.23667753]\n",
            " [0.30102151]]\n",
            "[[0.3715367 ]\n",
            " [0.23667753]\n",
            " [0.30102151]]\n",
            "[[0.3715367 ]\n",
            " [0.23667753]\n",
            " [0.30102151]]\n",
            "[[0.3715367 ]\n",
            " [0.23667753]\n",
            " [0.30102151]]\n"
          ],
          "name": "stdout"
        }
      ]
    },
    {
      "cell_type": "code",
      "metadata": {
        "id": "4xHv7Zgn9ZNp",
        "colab_type": "code",
        "colab": {}
      },
      "source": [
        ""
      ],
      "execution_count": null,
      "outputs": []
    },
    {
      "cell_type": "code",
      "metadata": {
        "id": "T-RmPrWolnht",
        "colab_type": "code",
        "colab": {}
      },
      "source": [
        ""
      ],
      "execution_count": null,
      "outputs": []
    }
  ]
}